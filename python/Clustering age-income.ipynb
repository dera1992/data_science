{
 "cells": [
  {
   "cell_type": "code",
   "execution_count": 3,
   "metadata": {
    "executionInfo": {
     "elapsed": 253,
     "status": "ok",
     "timestamp": 1670561670794,
     "user": {
      "displayName": "Pradeep Hewage",
      "userId": "06125653909624903571"
     },
     "user_tz": 0
    },
    "id": "bCPwW80GO1CC"
   },
   "outputs": [],
   "source": [
    "import pandas as pd\n",
    "from sklearn.cluster import KMeans\n",
    "from sklearn.preprocessing import MinMaxScaler\n",
    "import matplotlib.pyplot as plt\n"
   ]
  },
  {
   "cell_type": "code",
   "execution_count": 4,
   "metadata": {
    "executionInfo": {
     "elapsed": 188,
     "status": "ok",
     "timestamp": 1670561693082,
     "user": {
      "displayName": "Pradeep Hewage",
      "userId": "06125653909624903571"
     },
     "user_tz": 0
    },
    "id": "RNxjYWS4O1CD"
   },
   "outputs": [],
   "source": [
    "df = pd.read_csv('/content/sample_data/income.csv')"
   ]
  },
  {
   "cell_type": "code",
   "execution_count": null,
   "metadata": {
    "id": "rgkwjs-JO1CD"
   },
   "outputs": [],
   "source": [
    "df"
   ]
  },
  {
   "cell_type": "code",
   "execution_count": null,
   "metadata": {
    "id": "e9wQBPNJO1CE",
    "scrolled": true
   },
   "outputs": [],
   "source": [
    "plt.scatter(df['Age'],df['Income($)'])"
   ]
  },
  {
   "cell_type": "code",
   "execution_count": 7,
   "metadata": {
    "executionInfo": {
     "elapsed": 227,
     "status": "ok",
     "timestamp": 1670561722169,
     "user": {
      "displayName": "Pradeep Hewage",
      "userId": "06125653909624903571"
     },
     "user_tz": 0
    },
    "id": "IScwUJ-5O1CE"
   },
   "outputs": [],
   "source": [
    "km= KMeans(n_clusters=3, random_state=0)"
   ]
  },
  {
   "cell_type": "code",
   "execution_count": null,
   "metadata": {
    "id": "3Wouxcu5O1CE"
   },
   "outputs": [],
   "source": [
    "df1= df[['Age','Income($)']]\n",
    "df1"
   ]
  },
  {
   "cell_type": "code",
   "execution_count": null,
   "metadata": {
    "id": "4uwZPhv2O1CE"
   },
   "outputs": [],
   "source": [
    "predict_y= km.fit_predict(df1)\n",
    "predict_y\n",
    "#km.labels_"
   ]
  },
  {
   "cell_type": "code",
   "execution_count": null,
   "metadata": {
    "id": "sLLzZImuO1CE"
   },
   "outputs": [],
   "source": [
    "km.cluster_centers_"
   ]
  },
  {
   "cell_type": "code",
   "execution_count": null,
   "metadata": {
    "id": "zF1gHCu-O1CF"
   },
   "outputs": [],
   "source": [
    "df['cluster']=predict_y\n",
    "df"
   ]
  },
  {
   "cell_type": "code",
   "execution_count": null,
   "metadata": {
    "id": "PKxZbsBnO1CF"
   },
   "outputs": [],
   "source": [
    "df_c0= df[df.cluster==0]\n",
    "df_c1=df[df.cluster==1]\n",
    "df_c2=df[df.cluster==2]\n",
    "\n",
    "plt.scatter(df_c0['Age'], df_c0['Income($)'], label='Cluster 0', color='green')\n",
    "plt.scatter(df_c1['Age'], df_c1['Income($)'], label='Cluster 1',color='blue')\n",
    "plt.scatter(df_c2['Age'], df_c2['Income($)'], label='Cluster 2',color='red')\n",
    "\n",
    "plt.xlabel('Age')\n",
    "plt.ylabel('Income($)')\n",
    "plt.legend()"
   ]
  },
  {
   "cell_type": "code",
   "execution_count": null,
   "metadata": {
    "id": "2ZYTDtwuO1CF"
   },
   "outputs": [],
   "source": [
    "#Clusters are formed properly, scaling is required\n",
    "\n",
    "scaler=MinMaxScaler()\n",
    "scaler.fit(df[['Income($)']])\n",
    "df[['Income($)']]= scaler.transform(df[['Income($)']])\n",
    "df"
   ]
  },
  {
   "cell_type": "code",
   "execution_count": null,
   "metadata": {
    "id": "y6yQ72u9O1CF"
   },
   "outputs": [],
   "source": [
    "scaler.fit(df[['Age']])\n",
    "df[['Age']]= scaler.transform(df[['Age']])\n",
    "df"
   ]
  },
  {
   "cell_type": "code",
   "execution_count": 16,
   "metadata": {
    "executionInfo": {
     "elapsed": 186,
     "status": "ok",
     "timestamp": 1670561813100,
     "user": {
      "displayName": "Pradeep Hewage",
      "userId": "06125653909624903571"
     },
     "user_tz": 0
    },
    "id": "an1IJFQbO1CF"
   },
   "outputs": [],
   "source": [
    "km= KMeans(n_clusters=3, random_state=0)"
   ]
  },
  {
   "cell_type": "code",
   "execution_count": 17,
   "metadata": {
    "executionInfo": {
     "elapsed": 177,
     "status": "ok",
     "timestamp": 1670561818583,
     "user": {
      "displayName": "Pradeep Hewage",
      "userId": "06125653909624903571"
     },
     "user_tz": 0
    },
    "id": "ijxPdO6AO1CG"
   },
   "outputs": [],
   "source": [
    "df1= df[['Age','Income($)']]"
   ]
  },
  {
   "cell_type": "code",
   "execution_count": 18,
   "metadata": {
    "colab": {
     "base_uri": "https://localhost:8080/"
    },
    "executionInfo": {
     "elapsed": 185,
     "status": "ok",
     "timestamp": 1670561823478,
     "user": {
      "displayName": "Pradeep Hewage",
      "userId": "06125653909624903571"
     },
     "user_tz": 0
    },
    "id": "ZzmMpTESO1CG",
    "outputId": "b27d9e86-3144-47be-aee3-9d245306db24"
   },
   "outputs": [
    {
     "data": {
      "text/plain": [
       "array([0, 0, 0, 0, 1, 1, 1, 1, 1, 1, 1, 0, 0, 0, 0, 0, 2, 2, 2, 2, 2, 2],\n",
       "      dtype=int32)"
      ]
     },
     "execution_count": 18,
     "metadata": {},
     "output_type": "execute_result"
    }
   ],
   "source": [
    "predict_y = km.fit_predict(df1)\n",
    "predict_y"
   ]
  },
  {
   "cell_type": "code",
   "execution_count": null,
   "metadata": {
    "id": "gbjn6qfPO1CG"
   },
   "outputs": [],
   "source": [
    "df['New_clusters']=predict_y\n",
    "df"
   ]
  },
  {
   "cell_type": "code",
   "execution_count": null,
   "metadata": {
    "id": "bj2DSEQcO1CG"
   },
   "outputs": [],
   "source": [
    "df_c0= df[df.New_clusters==0]\n",
    "df_c1=df[df.New_clusters==1]\n",
    "df_c2=df[df.New_clusters==2]\n",
    "\n",
    "plt.scatter(df_c0['Age'], df_c0['Income($)'], label='Cluster 0', color='green')\n",
    "plt.scatter(df_c1['Age'], df_c1['Income($)'], label='Cluster 1',color='blue')\n",
    "plt.scatter(df_c2['Age'], df_c2['Income($)'], label='Cluster 2',color='purple')\n",
    "\n",
    "plt.xlabel('Age')\n",
    "plt.ylabel('Income($)')\n",
    "plt.legend()"
   ]
  },
  {
   "cell_type": "code",
   "execution_count": null,
   "metadata": {
    "id": "1aCJm-0RO1CG"
   },
   "outputs": [],
   "source": [
    "km.cluster_centers_"
   ]
  },
  {
   "cell_type": "code",
   "execution_count": null,
   "metadata": {
    "id": "QB5U_670O1CG"
   },
   "outputs": [],
   "source": [
    "df_c0= df[df.New_clusters==0]\n",
    "df_c1=df[df.New_clusters==1]\n",
    "df_c2=df[df.New_clusters==2]\n",
    "\n",
    "plt.scatter(df_c0['Age'], df_c0['Income($)'], label='Cluster 0', color='green')\n",
    "plt.scatter(df_c1['Age'], df_c1['Income($)'], label='Cluster 1',color='blue')\n",
    "plt.scatter(df_c2['Age'], df_c2['Income($)'], label='Cluster 2',color='purple')\n",
    "plt.scatter(km.cluster_centers_[:,0], km.cluster_centers_[:,1],color='red', marker='*', label ='centroid')\n",
    "\n",
    "plt.xlabel('Age')\n",
    "plt.ylabel('Income($)')\n",
    "plt.legend()"
   ]
  },
  {
   "cell_type": "code",
   "execution_count": null,
   "metadata": {
    "id": "D1XH6RPyO1CH"
   },
   "outputs": [],
   "source": [
    "#Elbow method\n",
    "#Calculate Sum of Square Error(SSE)\n",
    "\n",
    "k_range=range(1,10)\n",
    "sse=[]\n",
    "for k in k_range:\n",
    "    km = KMeans(n_clusters=k)\n",
    "    km.fit(df[['Age', 'Income($)']])\n",
    "    sse.append(km.inertia_) \n",
    "\n",
    "sse"
   ]
  },
  {
   "cell_type": "code",
   "execution_count": null,
   "metadata": {
    "id": "bogcanELO1CH"
   },
   "outputs": [],
   "source": [
    "plt.xlabel('K')\n",
    "plt.ylabel('SSE')\n",
    "plt.plot(k_range,sse)"
   ]
  },
  {
   "cell_type": "markdown",
   "metadata": {
    "id": "OJRUqTeXO1CH"
   },
   "source": [
    ">> ACTIVITY -2 <br>\n",
    "Take IRIS dataset. Consider only two colums petal length and petal width. Now apply kmeans clustering."
   ]
  }
 ],
 "metadata": {
  "colab": {
   "provenance": []
  },
  "kernelspec": {
   "display_name": "Python 3",
   "language": "python",
   "name": "python3"
  },
  "language_info": {
   "codemirror_mode": {
    "name": "ipython",
    "version": 3
   },
   "file_extension": ".py",
   "mimetype": "text/x-python",
   "name": "python",
   "nbconvert_exporter": "python",
   "pygments_lexer": "ipython3",
   "version": "3.6.8"
  }
 },
 "nbformat": 4,
 "nbformat_minor": 1
}
